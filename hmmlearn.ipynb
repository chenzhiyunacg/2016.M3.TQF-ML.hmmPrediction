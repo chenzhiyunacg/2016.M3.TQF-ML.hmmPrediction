{
 "cells": [
  {
   "cell_type": "code",
   "execution_count": 3,
   "metadata": {
    "collapsed": false
   },
   "outputs": [
    {
     "ename": "ImportError",
     "evalue": "No module named 'hmmlearn.hmm'; 'hmmlearn' is not a package",
     "output_type": "error",
     "traceback": [
      "\u001b[0;31m---------------------------------------------------------------------------\u001b[0m",
      "\u001b[0;31mImportError\u001b[0m                               Traceback (most recent call last)",
      "\u001b[0;32m<ipython-input-3-e0de7ef9c5ad>\u001b[0m in \u001b[0;36m<module>\u001b[0;34m()\u001b[0m\n\u001b[0;32m----> 1\u001b[0;31m \u001b[1;32mimport\u001b[0m \u001b[0mhmmlearn\u001b[0m\u001b[1;33m\u001b[0m\u001b[0m\n\u001b[0m",
      "\u001b[0;32mC:\\Users\\czy\\Documents\\GitHub\\2016.M3.TQF-ML.hmmPrediction\\hmmlearn.py\u001b[0m in \u001b[0;36m<module>\u001b[0;34m()\u001b[0m\n\u001b[1;32m      7\u001b[0m \u001b[1;33m\u001b[0m\u001b[0m\n\u001b[1;32m      8\u001b[0m \u001b[1;32mimport\u001b[0m \u001b[0mhmmlearn\u001b[0m\u001b[1;33m\u001b[0m\u001b[0m\n\u001b[0;32m----> 9\u001b[0;31m \u001b[1;32mfrom\u001b[0m \u001b[0mhmmlearn\u001b[0m\u001b[1;33m.\u001b[0m\u001b[0mhmm\u001b[0m \u001b[1;32mimport\u001b[0m \u001b[0mGaussianHMM\u001b[0m\u001b[1;33m\u001b[0m\u001b[0m\n\u001b[0m\u001b[1;32m     10\u001b[0m \u001b[1;32mimport\u001b[0m \u001b[0mnumpy\u001b[0m \u001b[1;32mas\u001b[0m \u001b[0mnp\u001b[0m\u001b[1;33m\u001b[0m\u001b[0m\n\u001b[1;32m     11\u001b[0m \u001b[1;32mimport\u001b[0m \u001b[0mpandas\u001b[0m \u001b[1;32mas\u001b[0m \u001b[0mpd\u001b[0m\u001b[1;33m\u001b[0m\u001b[0m\n",
      "\u001b[0;31mImportError\u001b[0m: No module named 'hmmlearn.hmm'; 'hmmlearn' is not a package"
     ]
    }
   ],
   "source": [
    "import hmmlearn"
   ]
  },
  {
   "cell_type": "code",
   "execution_count": 3,
   "metadata": {
    "collapsed": false
   },
   "outputs": [
    {
     "ename": "ImportError",
     "evalue": "No module named 'hmmlearn.hmm'; 'hmmlearn' is not a package",
     "output_type": "error",
     "traceback": [
      "\u001b[0;31m---------------------------------------------------------------------------\u001b[0m",
      "\u001b[0;31mImportError\u001b[0m                               Traceback (most recent call last)",
      "\u001b[0;32m<ipython-input-3-c0f849cb0943>\u001b[0m in \u001b[0;36m<module>\u001b[0;34m()\u001b[0m\n\u001b[0;32m----> 1\u001b[0;31m \u001b[1;32mfrom\u001b[0m \u001b[0mhmmlearn\u001b[0m\u001b[1;33m.\u001b[0m\u001b[0mhmm\u001b[0m \u001b[1;32mimport\u001b[0m \u001b[0mGaussianHMM\u001b[0m\u001b[1;33m\u001b[0m\u001b[0m\n\u001b[0m\u001b[1;32m      2\u001b[0m \u001b[1;32mimport\u001b[0m \u001b[0mnumpy\u001b[0m \u001b[1;32mas\u001b[0m \u001b[0mnp\u001b[0m\u001b[1;33m\u001b[0m\u001b[0m\n\u001b[1;32m      3\u001b[0m \u001b[1;32mimport\u001b[0m \u001b[0mpandas\u001b[0m \u001b[1;32mas\u001b[0m \u001b[0mpd\u001b[0m\u001b[1;33m\u001b[0m\u001b[0m\n\u001b[1;32m      4\u001b[0m \u001b[1;32mimport\u001b[0m \u001b[0mmatplotlib\u001b[0m\u001b[1;33m\u001b[0m\u001b[0m\n\u001b[1;32m      5\u001b[0m \u001b[1;32mfrom\u001b[0m \u001b[0mmatplotlib\u001b[0m \u001b[1;32mimport\u001b[0m \u001b[0mcm\u001b[0m\u001b[1;33m\u001b[0m\u001b[0m\n",
      "\u001b[0;32mC:\\Users\\czy\\Documents\\GitHub\\2016.M3.TQF-ML.hmmPrediction\\hmmlearn.py\u001b[0m in \u001b[0;36m<module>\u001b[0;34m()\u001b[0m\n\u001b[1;32m      7\u001b[0m \u001b[1;33m\u001b[0m\u001b[0m\n\u001b[1;32m      8\u001b[0m \u001b[1;32mimport\u001b[0m \u001b[0mhmmlearn\u001b[0m\u001b[1;33m\u001b[0m\u001b[0m\n\u001b[0;32m----> 9\u001b[0;31m \u001b[1;32mfrom\u001b[0m \u001b[0mhmmlearn\u001b[0m\u001b[1;33m.\u001b[0m\u001b[0mhmm\u001b[0m \u001b[1;32mimport\u001b[0m \u001b[0mGaussianHMM\u001b[0m\u001b[1;33m\u001b[0m\u001b[0m\n\u001b[0m\u001b[1;32m     10\u001b[0m \u001b[1;32mimport\u001b[0m \u001b[0mnumpy\u001b[0m \u001b[1;32mas\u001b[0m \u001b[0mnp\u001b[0m\u001b[1;33m\u001b[0m\u001b[0m\n\u001b[1;32m     11\u001b[0m \u001b[1;32mimport\u001b[0m \u001b[0mpandas\u001b[0m \u001b[1;32mas\u001b[0m \u001b[0mpd\u001b[0m\u001b[1;33m\u001b[0m\u001b[0m\n",
      "\u001b[0;31mImportError\u001b[0m: No module named 'hmmlearn.hmm'; 'hmmlearn' is not a package"
     ]
    }
   ],
   "source": [
    "from hmmlearn.hmm import GaussianHMM\n",
    "import numpy as np\n",
    "import pandas as pd\n",
    "import matplotlib\n",
    "from matplotlib import cm\n",
    "from matplotlib import pyplot as plt\n",
    "import os\n",
    "import seaborn as sns"
   ]
  },
  {
   "cell_type": "code",
   "execution_count": null,
   "metadata": {
    "collapsed": false
   },
   "outputs": [],
   "source": [
    "sns.set_style('white')\n",
    "os.chdir(r\"C:\\Users\\czy\\Desktop\\课程\\topics\")\n",
    "data=pd.read_csv('000001.SH.csv')\n",
    "data=data.set_index('date')"
   ]
  },
  {
   "cell_type": "code",
   "execution_count": null,
   "metadata": {
    "collapsed": true
   },
   "outputs": [],
   "source": [
    "#initialize\n",
    "data_test=data[3000:]\n",
    "data=data[:3000]\n",
    "volume=data[\"volume\"].values\n",
    "close = data['close'].values\n",
    "open_price=data['open'].values\n",
    "high = data['high'].values\n",
    "low = data['low'].values\n",
    "swing=data['swing'].values\n",
    "\n",
    "logreturn = (np.log(np.array(close[1:]))-np.log(np.array(close[:-1])))[4:]\n",
    "logreturn5 = np.log(np.array(close[5:]))-np.log(np.array(close[:-5]))\n",
    "logvolume=(np.log(np.array(volume[1:]))-np.log(np.array(volume[:-1])))[4:]\n",
    "diffreturn = (np.array(high)-np.array(low))/np.array(close)       \n",
    "diffreturn=diffreturn[5:]\n",
    "swing=swing[5:]"
   ]
  },
  {
   "cell_type": "code",
   "execution_count": null,
   "metadata": {
    "collapsed": false
   },
   "outputs": [],
   "source": [
    "#hmm learning\n",
    "X = np.column_stack([logreturn,logreturn5])\n",
    "hmm = GaussianHMM(n_components = 6, covariance_type='diag',n_iter = 5000).fit(X)\n",
    "latent_states_sequence = hmm.predict(X)"
   ]
  },
  {
   "cell_type": "code",
   "execution_count": null,
   "metadata": {
    "collapsed": false
   },
   "outputs": [],
   "source": [
    "#plot market state sequence\n",
    "datelist = pd.to_datetime(data['close'].index[5:])\n",
    "closeidx = close[5:]\n",
    "sns.set_style('white')\n",
    "for i in range(hmm.n_components):\n",
    "    state = (latent_states_sequence == i)\n",
    "    plt.plot(datelist[state],closeidx[state],'.',label = 'latent state %d'%i,lw = 1)\n",
    "    plt.legend()\n",
    "    plt.grid(1)\n",
    "    \n",
    "plt.show()"
   ]
  },
  {
   "cell_type": "code",
   "execution_count": null,
   "metadata": {
    "collapsed": false
   },
   "outputs": [],
   "source": [
    "#test latent state\n",
    "data = pd.DataFrame({'datelist':datelist,'logreturn':logreturn,'state':latent_states_sequence}).set_index('datelist')\n",
    "for i in range(hmm.n_components):\n",
    "    state = (latent_states_sequence == i)\n",
    "    idx = np.append(0,state[:-1])\n",
    "    data['state %d_return'%i] = data.logreturn.multiply(idx,axis = 0) \n",
    "    plt.plot(np.exp(data['state %d_return' %i].cumsum()),label = 'latent_state %d'%i) \n",
    "    plt.legend()\n",
    "    plt.grid(1)\n",
    "    \n",
    "plt.show()"
   ]
  },
  {
   "cell_type": "code",
   "execution_count": null,
   "metadata": {
    "collapsed": false
   },
   "outputs": [],
   "source": [
    "#construct strategy\n",
    "buy=0;\n",
    "sell=0;\n",
    "for i in range(hmm.n_components):\n",
    "    temp=np.exp(data['state %d_return' %i].cumsum())\n",
    "    if temp[-1]>1.2 :\n",
    "        buy=buy+(latent_states_sequence == i)\n",
    "    if temp[-1]<1 :\n",
    "        sell=sell+(latent_states_sequence == i)\n",
    "buy = np.append(0,buy[:-1])\n",
    "sell = np.append(0,sell[:-1])\n",
    "data['backtest_return'] = data.logreturn.multiply(buy,axis = 0) \\\n",
    "                             - data.logreturn.multiply(sell,axis = 0)\n",
    "plt.plot_date(datelist,np.exp(data['backtest_return'].cumsum()),'-',label='backtest result')\n",
    "plt.legend()\n",
    "plt.grid(1)\n",
    "plt.show()"
   ]
  },
  {
   "cell_type": "code",
   "execution_count": null,
   "metadata": {
    "collapsed": false
   },
   "outputs": [],
   "source": [
    "#test hmm\n",
    "volume=data_test[\"volume\"].values\n",
    "close = data_test['close'].values\n",
    "open_price=data_test['open'].values\n",
    "high = data_test['high'].values\n",
    "low = data_test['low'].values\n",
    "\n",
    "logreturn = (np.log(np.array(close[1:]))-np.log(np.array(close[:-1])))[4:]\n",
    "logreturn5 = np.log(np.array(close[5:]))-np.log(np.array(close[:-5]))\n",
    "diffreturn = (np.array(high)-np.array(low))/np.array(close)       \n",
    "diffreturn=diffreturn[5:]\n",
    "\n",
    "X = np.column_stack([logreturn,logreturn5])\n",
    "latent_states_sequence = hmm.predict(X)\n",
    "\n",
    "datelist = pd.to_datetime(data_test['close'].index[5:])\n",
    "closeidx = close[5:]\n",
    "\n",
    "sns.set_style('white')\n",
    "for i in range(hmm.n_components):\n",
    "    state = (latent_states_sequence == i)\n",
    "    plt.plot(datelist[state],closeidx[state],'.',label = 'latent state %d'%i,lw = 1)\n",
    "    plt.legend()\n",
    "    plt.grid(1)\n",
    "\n",
    "plt.show()"
   ]
  },
  {
   "cell_type": "code",
   "execution_count": null,
   "metadata": {
    "collapsed": false
   },
   "outputs": [],
   "source": [
    "data = pd.DataFrame({'datelist':datelist,'logreturn':logreturn,'state':latent_states_sequence}).set_index('datelist')\n",
    "for i in range(hmm.n_components):\n",
    "    state = (latent_states_sequence == i)\n",
    "    idx = np.append(0,state[:-1])\n",
    "    data['state %d_return'%i] = data.logreturn.multiply(idx,axis = 0) \n",
    "    plt.plot(np.exp(data['state %d_return' %i].cumsum()),label = 'latent_state %d'%i) \n",
    "    plt.legend()\n",
    "    plt.grid(1)\n",
    "\n",
    "plt.show()"
   ]
  },
  {
   "cell_type": "code",
   "execution_count": null,
   "metadata": {
    "collapsed": false
   },
   "outputs": [],
   "source": [
    "buy=0;\n",
    "sell=0;\n",
    "for i in range(hmm.n_components):\n",
    "    temp=np.exp(data['state %d_return' %i].cumsum())\n",
    "    if temp[-1]>1:\n",
    "        buy=buy+(latent_states_sequence == i)\n",
    "    if temp[-1]<1:\n",
    "        sell=sell+(latent_states_sequence == i)\n",
    "buy = np.append(0,buy[:-1])\n",
    "sell = np.append(0,sell[:-1])\n",
    "data['backtest_return'] = data.logreturn.multiply(buy,axis = 0) \\\n",
    "                             - data.logreturn.multiply(sell,axis = 0)\n",
    "plt.plot_date(datelist,np.exp(data['backtest_return'].cumsum()),'-',label='backtest result')\n",
    "plt.legend()\n",
    "plt.grid(1)\n",
    "plt.show()"
   ]
  },
  {
   "cell_type": "code",
   "execution_count": null,
   "metadata": {
    "collapsed": false
   },
   "outputs": [],
   "source": [
    "backtest=np.exp(data['backtest_return'].cumsum())\n",
    "retracement=0;\n",
    "high=0;\n",
    "for i in range(len(backtest)):\n",
    "    if backtest[i]>high:\n",
    "        high=backtest[i]\n",
    "    temp=1-backtest[i]/high\n",
    "    if temp>retracement:\n",
    "        retracement=temp\n",
    "print('retracement', retracement)\n",
    "print(backtest[-1]/retracement)"
   ]
  },
  {
   "cell_type": "code",
   "execution_count": null,
   "metadata": {
    "collapsed": true
   },
   "outputs": [],
   "source": []
  }
 ],
 "metadata": {
  "anaconda-cloud": {},
  "kernelspec": {
   "display_name": "Python [conda root]",
   "language": "python",
   "name": "conda-root-py"
  },
  "language_info": {
   "codemirror_mode": {
    "name": "ipython",
    "version": 3
   },
   "file_extension": ".py",
   "mimetype": "text/x-python",
   "name": "python",
   "nbconvert_exporter": "python",
   "pygments_lexer": "ipython3",
   "version": "3.5.2"
  }
 },
 "nbformat": 4,
 "nbformat_minor": 1
}
